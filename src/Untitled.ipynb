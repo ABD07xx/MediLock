{
 "cells": [
  {
   "cell_type": "code",
   "execution_count": 2,
   "id": "0b91c628",
   "metadata": {},
   "outputs": [
    {
     "name": "stdout",
     "output_type": "stream",
     "text": [
      "Decryption successful!\n"
     ]
    }
   ],
   "source": [
    "from cryptography.fernet import Fernet\n",
    "\n",
    "key = b'gIpxp8Z4GZK_eYyZGHHS6KodQa1FbOhW-a1E7tDkzzo='\n",
    "cipher = Fernet(key)\n",
    "\n",
    "with open(\"Encrypted_pinatafile.jpg\", 'rb') as file:\n",
    "    encrypted_data = file.read()\n",
    "\n",
    "try:\n",
    "    decrypted_data = cipher.decrypt(encrypted_data)\n",
    "    with open(\"Test_Decrypted_pinatafile.jpg\", 'wb') as file:\n",
    "        file.write(decrypted_data)\n",
    "    print(\"Decryption successful!\")\n",
    "except Exception as e:\n",
    "    print(f\"Decryption error: {e}\")\n"
   ]
  },
  {
   "cell_type": "code",
   "execution_count": null,
   "id": "857c17de",
   "metadata": {},
   "outputs": [],
   "source": []
  }
 ],
 "metadata": {
  "kernelspec": {
   "display_name": "Python 3 (ipykernel)",
   "language": "python",
   "name": "python3"
  },
  "language_info": {
   "codemirror_mode": {
    "name": "ipython",
    "version": 3
   },
   "file_extension": ".py",
   "mimetype": "text/x-python",
   "name": "python",
   "nbconvert_exporter": "python",
   "pygments_lexer": "ipython3",
   "version": "3.10.9"
  }
 },
 "nbformat": 4,
 "nbformat_minor": 5
}
